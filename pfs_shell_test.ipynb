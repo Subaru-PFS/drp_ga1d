{
 "cells": [
  {
   "cell_type": "code",
   "execution_count": 1,
   "metadata": {
    "collapsed": false
   },
   "outputs": [],
   "source": [
    "from pfsabund import pfs_io as io"
   ]
  },
  {
   "cell_type": "code",
   "execution_count": 2,
   "metadata": {
    "collapsed": true
   },
   "outputs": [],
   "source": [
    "#Define parameters needed to execute the code\n",
    "\n",
    "visit = 000001 #an incrementing exposure number, unique at any site\n",
    "mode = 'mr' #the resolution mode of the red arm of the spectrograph\n",
    "in_dir = 'out_sim/'+mode #the directory containing the input files\n",
    "out_dir = 'out_abund/'+mode+'/' #the output directory, created by the code if it does not exist"
   ]
  },
  {
   "cell_type": "code",
   "execution_count": 3,
   "metadata": {
    "collapsed": false
   },
   "outputs": [],
   "source": [
    "#Construct the PFS dictionary for the abundance pipeline for this object\n",
    "pfs = io.Read.read_fits(mode=mode, visit=visit, file_dir=in_dir)"
   ]
  },
  {
   "cell_type": "code",
   "execution_count": 7,
   "metadata": {
    "collapsed": false
   },
   "outputs": [
    {
     "name": "stdout",
     "output_type": "stream",
     "text": [
      "['initcont', 'p_vhelio', 'vchi', 'tife', 'sn', '2mass_id', 'tefferr', 'teff', 'logg', 'loggphoterr', 'sife', 'cfe', 'feh', 'refinedcont', 'cafe', 'loggphot', 'sky', 'mgfeerr', 'cfeerr', 'mherr', 'alphafeerr', 'visit', 'teffphoterr', 'feherr', 'vturbphot', 'alphafe', 'ra', 'bafeerr', 'mnfeerr', 'nifeerr', 'cafeerr', 'vturberr', 'cofe', 'vtemplate', 'loggerr', 'verr', 'gaia_id', 'vflag', 'teffphot', 'nife', 'bafe', 'vhelio', 'wvl', 'mhphot', 'distance', 'vturb', 'z', 'ivar', 'g', 'obj_id', 'i', 'mgfe', 'tifeerr', 'mh', 'flux', 'r', 'mode', 'mnfe', 'y', 'dec', 'sifeerr', 'cofeerr']\n"
     ]
    }
   ],
   "source": [
    "print pfs.keys()"
   ]
  },
  {
   "cell_type": "code",
   "execution_count": 4,
   "metadata": {
    "collapsed": false
   },
   "outputs": [
    {
     "name": "stdout",
     "output_type": "stream",
     "text": [
      "{'initcont': array([[0., 0., 0., ..., 0., 0., 0.],\n",
      "       [0., 0., 0., ..., 0., 0., 0.],\n",
      "       [0., 0., 0., ..., 0., 0., 0.]]), 'p_vhelio': array([[0., 0., 0., ..., 0., 0., 0.],\n",
      "       [0., 0., 0., ..., 0., 0., 0.],\n",
      "       [0., 0., 0., ..., 0., 0., 0.],\n",
      "       ...,\n",
      "       [0., 0., 0., ..., 0., 0., 0.],\n",
      "       [0., 0., 0., ..., 0., 0., 0.],\n",
      "       [0., 0., 0., ..., 0., 0., 0.]]), 'vchi': nan, 'tife': nan, 'sn': nan, '2mass_id': '6789', 'tefferr': nan, 'teff': nan, 'logg': nan, 'loggphoterr': array([0., 0., 0., 0., 0., 0., 0., 0.]), 'sife': nan, 'cfe': nan, 'feh': nan, 'refinedcont': array([[0., 0., 0., ..., 0., 0., 0.],\n",
      "       [0., 0., 0., ..., 0., 0., 0.],\n",
      "       [0., 0., 0., ..., 0., 0., 0.]]), 'cafe': nan, 'loggphot': array([0., 0., 0., 0., 0., 0., 0., 0.]), 'sky': array([[2.56385206, 2.57793468, 2.61810565, ..., 2.03256565, 2.81458685,\n",
      "        5.22693433],\n",
      "       [2.16377396, 2.02817929, 1.93485998, ..., 3.60681461, 2.99839544,\n",
      "        2.79748152],\n",
      "       [8.77318473, 3.76155187, 3.98039528, ..., 1.71606783, 1.71104355,\n",
      "        1.70735635]]), 'mgfeerr': nan, 'cfeerr': nan, 'mherr': nan, 'alphafeerr': nan, 'visit': 1, 'teffphoterr': array([0., 0., 0., 0., 0., 0., 0., 0.]), 'feherr': nan, 'vturbphot': array([0., 0., 0., 0., 0., 0., 0., 0.]), 'alphafe': nan, 'ra': 150.0, 'bafeerr': nan, 'mnfeerr': nan, 'nifeerr': nan, 'cafeerr': nan, 'vturberr': nan, 'cofe': nan, 'vtemplate': array([0., 0., 0., ..., 0., 0., 0.]), 'loggerr': nan, 'verr': nan, 'gaia_id': '2345', 'vflag': 1, 'teffphot': array([0., 0., 0., 0., 0., 0., 0., 0.]), 'nife': nan, 'bafe': nan, 'vhelio': nan, 'wvl': array([[ 3800.  ,  3800.66,  3801.32, ...,  6498.02,  6498.68,  6499.34],\n",
      "       [ 7100.  ,  7100.43,  7100.85, ...,  8848.72,  8849.15,  8849.57],\n",
      "       [ 9400.  ,  9400.78,  9401.56, ..., 12597.66, 12598.44, 12599.22]]), 'mhphot': array([0., 0., 0., 0., 0., 0., 0., 0.]), 'distance': nan, 'vturb': nan, 'z': 19.402021, 'ivar': array([[5.15988907e+00, 5.12251507e+00, 5.18175110e+00, ...,\n",
      "        1.15222645e-01, 7.25490386e-02, 3.89106863e-02],\n",
      "       [8.15098589e+01, 8.30090701e+01, 8.45229258e+01, ...,\n",
      "        9.70350244e+01, 1.13451492e+02, 1.20680869e+02],\n",
      "       [3.14622445e-04, 2.35044299e-03, 5.11810971e-03, ...,\n",
      "        2.33557453e+02, 2.33776772e+02, 2.33929895e+02]]), 'g': 20.9297, 'obj_id': 1, 'i': 19.578726, 'mgfe': nan, 'tifeerr': nan, 'mh': nan, 'flux': array([[ 1.00056118,  1.1097651 ,  1.21555967, ...,  3.97869006,\n",
      "        -0.11462228,  7.73643322],\n",
      "       [ 2.88269974,  2.81541247,  3.13462414, ...,  2.56760466,\n",
      "         2.49307229,  2.40526363],\n",
      "       [11.64527294, 12.91592089, 27.49864165, ...,  1.19627777,\n",
      "         1.44577527,  1.25718508]]), 'r': 20.078056, 'mode': 'mr', 'mnfe': nan, 'y': 19.266273, 'dec': 2.0, 'sifeerr': nan, 'cofeerr': nan}\n"
     ]
    }
   ],
   "source": [
    "print pfs"
   ]
  },
  {
   "cell_type": "code",
   "execution_count": 5,
   "metadata": {
    "collapsed": true
   },
   "outputs": [],
   "source": [
    "## This is where the body of abundance pipeline would be located and update the keys in the PFS dictionary corresponding\n",
    "## to the outputs of the abundance pipeline"
   ]
  },
  {
   "cell_type": "code",
   "execution_count": 6,
   "metadata": {
    "collapsed": true
   },
   "outputs": [],
   "source": [
    "#Save the dictionary as a FITS file in the specified directory\n",
    "pfs.write_to(out_dir)"
   ]
  }
 ],
 "metadata": {
  "kernelspec": {
   "display_name": "Python 2",
   "language": "python",
   "name": "python2"
  },
  "language_info": {
   "codemirror_mode": {
    "name": "ipython",
    "version": 2
   },
   "file_extension": ".py",
   "mimetype": "text/x-python",
   "name": "python",
   "nbconvert_exporter": "python",
   "pygments_lexer": "ipython2",
   "version": "2.7.3"
  }
 },
 "nbformat": 4,
 "nbformat_minor": 2
}
