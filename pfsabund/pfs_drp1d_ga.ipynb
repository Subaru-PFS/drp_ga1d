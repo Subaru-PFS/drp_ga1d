{
 "cells": [
  {
   "cell_type": "code",
   "execution_count": 1,
   "metadata": {
    "collapsed": true
   },
   "outputs": [],
   "source": [
    "from pfsabund import pfs_io as io\n",
    "from pfsabund import pfs_1d_abund as abund"
   ]
  },
  {
   "cell_type": "code",
   "execution_count": 7,
   "metadata": {
    "collapsed": true
   },
   "outputs": [],
   "source": [
    "#Define parameters needed to execute the code\n",
    "\n",
    "visit = 1 #an incrementing exposure number, unique at any site\n",
    "patch = '0,0' #specifies region within a tract\n",
    "tract = 0 #specifies region in the sky\n",
    "catId = 0 #catalog ID. 0 indicates a simulation.\n",
    "objId = 1 #a unique object ID. \n",
    "\n",
    "mode = 'lr' #the resolution mode of the red arm of the spectrograph\n",
    "in_dir = 'out_sim/'+mode+'/' #the directory containing the input files\n",
    "out_dir = 'out_abund/'+mode+'/' #the output directory, created by the code if it does not exist"
   ]
  },
  {
   "cell_type": "code",
   "execution_count": 8,
   "metadata": {
    "collapsed": true
   },
   "outputs": [],
   "source": [
    "#Construct the PFS dictionary for the abundance pipeline for this object\n",
    "\n",
    "pfs = io.Read.read_fits(tract, patch, catId, objId, visit, file_dir=in_dir)"
   ]
  },
  {
   "cell_type": "code",
   "execution_count": 9,
   "metadata": {
    "collapsed": false
   },
   "outputs": [
    {
     "name": "stdout",
     "output_type": "stream",
     "text": [
      "dict_keys(['fileNameFormat', 'distance', 'vhelio', 'verr', 'p_vhelio', 'vtemplate', 'vchi', 'vflag', 'sn', 'combined_flux', 'combined_wvl', 'wvl', 'flux', 'ivar', 'sky', 'obj_id', 'ra', 'dec', 'g', 'r', 'i', 'z', 'y', 'teffphot', 'teffphoterr', 'loggphot', 'loggphoterr', 'vturbphot', 'mhphot', 'initcont', 'refinedcont', 'teff', 'logg', 'vturb', 'mh', 'alphafe', 'feh', 'cfe', 'mgfe', 'cafe', 'sife', 'tife', 'mnfe', 'cofe', 'nife', 'bafe', 'tefferr', 'loggerr', 'vturberr', 'mherr', 'alphafeerr', 'feherr', 'cfeerr', 'mgfeerr', 'cafeerr', 'sifeerr', 'tifeerr', 'mnfeerr', 'cofeerr', 'nifeerr', 'bafeerr', 'gaia_id', '2mass_id'])\n"
     ]
    }
   ],
   "source": [
    "## Note that although fileNameFormat is included in the PFS Object dictionary, it is not saved as a column in the\n",
    "## output FITS file\n",
    "print(pfs.keys())"
   ]
  },
  {
   "cell_type": "code",
   "execution_count": 5,
   "metadata": {
    "collapsed": false
   },
   "outputs": [
    {
     "name": "stdout",
     "output_type": "stream",
     "text": [
      "{'fileNameFormat': '00000-0,0-000-00000001-01-0x395428ab', 'distance': nan, 'vhelio': nan, 'verr': nan, 'p_vhelio': array([[0., 0., 0., ..., 0., 0., 0.],\n",
      "       [0., 0., 0., ..., 0., 0., 0.],\n",
      "       [0., 0., 0., ..., 0., 0., 0.],\n",
      "       ...,\n",
      "       [0., 0., 0., ..., 0., 0., 0.],\n",
      "       [0., 0., 0., ..., 0., 0., 0.],\n",
      "       [0., 0., 0., ..., 0., 0., 0.]]), 'vtemplate': array([0., 0., 0., ..., 0., 0., 0.]), 'vchi': nan, 'vflag': 1, 'sn': nan, 'combined_flux': array([      nan,       nan,       nan, ..., 1.2404284, 1.3051894,\n",
      "       1.3103181], dtype=float32), 'combined_wvl': array([ 3500.        ,  3501.00017094,  3502.00034189, ...,\n",
      "       12598.55507803, 12599.55524898, 12600.55541992]), 'wvl': array([ 3800.    ,  3800.6602,  3801.3198, ..., 12597.66  , 12598.439 ,\n",
      "       12599.22  ], dtype=float32), 'flux': array([1.0005611, 1.1097804, 1.2155412, ..., 1.1962837, 1.4457566,\n",
      "       1.2571921], dtype=float32), 'ivar': array([  5.159889 ,   5.1225233,   5.1817408, ..., 233.55739  ,\n",
      "       233.77673  , 233.92989  ], dtype=float32), 'sky': array([      nan,       nan,       nan, ..., 1.7219747, 1.7138746,\n",
      "       1.7083951], dtype=float32), 'obj_id': 1, 'ra': 150.0, 'dec': 2.0, 'g': 20.9297, 'r': 20.078056, 'i': 19.578726, 'z': 19.402021, 'y': 19.266273, 'teffphot': array([0., 0., 0., 0., 0., 0., 0., 0.]), 'teffphoterr': array([0., 0., 0., 0., 0., 0., 0., 0.]), 'loggphot': array([0., 0., 0., 0., 0., 0., 0., 0.]), 'loggphoterr': array([0., 0., 0., 0., 0., 0., 0., 0.]), 'vturbphot': array([0., 0., 0., 0., 0., 0., 0., 0.]), 'mhphot': array([0., 0., 0., 0., 0., 0., 0., 0.]), 'initcont': array([[0., 0., 0., ..., 0., 0., 0.],\n",
      "       [0., 0., 0., ..., 0., 0., 0.],\n",
      "       [0., 0., 0., ..., 0., 0., 0.]]), 'refinedcont': array([[0., 0., 0., ..., 0., 0., 0.],\n",
      "       [0., 0., 0., ..., 0., 0., 0.],\n",
      "       [0., 0., 0., ..., 0., 0., 0.]]), 'teff': nan, 'logg': nan, 'vturb': nan, 'mh': nan, 'alphafe': nan, 'feh': nan, 'cfe': nan, 'mgfe': nan, 'cafe': nan, 'sife': nan, 'tife': nan, 'mnfe': nan, 'cofe': nan, 'nife': nan, 'bafe': nan, 'tefferr': nan, 'loggerr': nan, 'vturberr': nan, 'mherr': nan, 'alphafeerr': nan, 'feherr': nan, 'cfeerr': nan, 'mgfeerr': nan, 'cafeerr': nan, 'sifeerr': nan, 'tifeerr': nan, 'mnfeerr': nan, 'cofeerr': nan, 'nifeerr': nan, 'bafeerr': nan, 'gaia_id': '2345', '2mass_id': '6789'}\n"
     ]
    }
   ],
   "source": [
    "print(pfs)"
   ]
  },
  {
   "cell_type": "code",
   "execution_count": 6,
   "metadata": {
    "collapsed": true
   },
   "outputs": [],
   "source": [
    "## Run the abundance pipeline\n",
    "\n",
    "## Note that you MUST have access to the synthetic spectral grids of Escala et al. 2019a and Kirby et al. 2008 to\n",
    "## run this code\n",
    "\n",
    "abund.MeasurePFSAbund(pfs, mode=mode)"
   ]
  },
  {
   "cell_type": "code",
   "execution_count": 10,
   "metadata": {
    "collapsed": true
   },
   "outputs": [],
   "source": [
    "#Save the dictionary as a FITS file in the specified directory\n",
    "pfs.write_to(out_dir)"
   ]
  },
  {
   "cell_type": "code",
   "execution_count": null,
   "metadata": {
    "collapsed": true
   },
   "outputs": [],
   "source": []
  }
 ],
 "metadata": {
  "kernelspec": {
   "display_name": "Python 3",
   "language": "python",
   "name": "python3"
  },
  "language_info": {
   "codemirror_mode": {
    "name": "ipython",
    "version": 3
   },
   "file_extension": ".py",
   "mimetype": "text/x-python",
   "name": "python",
   "nbconvert_exporter": "python",
   "pygments_lexer": "ipython3",
   "version": "3.7.3"
  }
 },
 "nbformat": 4,
 "nbformat_minor": 2
}
