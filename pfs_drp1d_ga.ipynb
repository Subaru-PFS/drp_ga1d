{
 "cells": [
  {
   "cell_type": "code",
   "execution_count": 1,
   "metadata": {},
   "outputs": [],
   "source": [
    "from pfsabund import pfs_io as io\n",
    "from pfsabund import pfs_1d_abund as abund"
   ]
  },
  {
   "cell_type": "code",
   "execution_count": 2,
   "metadata": {},
   "outputs": [],
   "source": [
    "#Define parameters needed to execute the code\n",
    "\n",
    "visit = 1 #an incrementing exposure number, unique at any site\n",
    "patch = '0,0' #specifies region within a tract\n",
    "tract = 0 #specifies region in the sky\n",
    "catId = 0 #catalog ID. 0 indicates a simulation.\n",
    "objId = 1 #a unique object ID. \n",
    "\n",
    "mode = 'lr' #the resolution mode of the red arm of the spectrograph\n",
    "in_dir = f'out_sim/{mode}/' #the directory containing the input files\n",
    "out_dir = f'out_abund/{mode}/' #the output directory, created by the code if it does not exist\n",
    "\n",
    "### NOTE THAT THE MR FILES PROVIDED ARE CURRENTLY OUT OF DATE WITH DATAMODEL 5.2 ###\n",
    "\n",
    "## please note that you may have to provide the path name to the synthetic spectra utilized in the \n",
    "## chi sqared fitting based on your directory structure. The paths can be altered using the keywords\n",
    "## synth_path_blue and synth_path_red when calling MeasurePFSAbund"
   ]
  },
  {
   "cell_type": "code",
   "execution_count": 3,
   "metadata": {},
   "outputs": [],
   "source": [
    "#Construct the PFS dictionary for the abundance pipeline for this object\n",
    "\n",
    "pfs = io.Read.read_fits(catId, tract, patch, objId, visit, file_dir=in_dir)"
   ]
  },
  {
   "cell_type": "code",
   "execution_count": 4,
   "metadata": {},
   "outputs": [
    {
     "name": "stdout",
     "output_type": "stream",
     "text": [
      "dict_keys(['fileNameFormat', 'distance', 'vhelio', 'verr', 'p_vhelio', 'vtemplate', 'vchi', 'vflag', 'sn', 'combined_flux', 'combined_wvl', 'wvl', 'flux', 'ivar', 'sky', 'obj_id', 'ra', 'dec', 'mag', 'filter', 'teffphot', 'teffphoterr', 'loggphot', 'loggphoterr', 'vturbphot', 'mhphot', 'initcont', 'refinedcont', 'teff', 'logg', 'vturb', 'mh', 'alphafe', 'feh', 'cfe', 'mgfe', 'cafe', 'sife', 'tife', 'mnfe', 'cofe', 'nife', 'bafe', 'tefferr', 'loggerr', 'vturberr', 'mherr', 'alphafeerr', 'feherr', 'cfeerr', 'mgfeerr', 'cafeerr', 'sifeerr', 'tifeerr', 'mnfeerr', 'cofeerr', 'nifeerr', 'bafeerr', 'gaia_id', '2mass_id'])\n"
     ]
    }
   ],
   "source": [
    "## Note that although fileNameFormat is included in the PFS Object dictionary, it is not saved as a column in the\n",
    "## output FITS file\n",
    "print(pfs.keys())"
   ]
  },
  {
   "cell_type": "code",
   "execution_count": 5,
   "metadata": {},
   "outputs": [
    {
     "name": "stdout",
     "output_type": "stream",
     "text": [
      "{'fileNameFormat': '000-00000-0,0-0000000000000001-001-0x8cf7641568bdb4ab', 'distance': nan, 'vhelio': nan, 'verr': nan, 'p_vhelio': array([[0., 0., 0., ..., 0., 0., 0.],\n",
      "       [0., 0., 0., ..., 0., 0., 0.],\n",
      "       [0., 0., 0., ..., 0., 0., 0.],\n",
      "       ...,\n",
      "       [0., 0., 0., ..., 0., 0., 0.],\n",
      "       [0., 0., 0., ..., 0., 0., 0.],\n",
      "       [0., 0., 0., ..., 0., 0., 0.]]), 'vtemplate': array([0., 0., 0., ..., 0., 0., 0.]), 'vchi': nan, 'vflag': 1, 'sn': nan, 'combined_flux': array([0.0000000e+00, 0.0000000e+00, 0.0000000e+00, ..., 5.3996326e+08,\n",
      "       5.3946714e+08, 0.0000000e+00], dtype=float32), 'combined_wvl': array([3.49840000e-06, 3.49920007e-06, 3.50000014e-06, ...,\n",
      "       1.25975999e-05, 1.25983999e-05, 1.25992000e-05]), 'wvl': array([ 3800.    ,  3800.6602,  3801.3198, ..., 12597.66  , 12598.439 ,\n",
      "       12599.22  ], dtype=float32), 'flux': array([1.05168536e+08, 1.08677392e+08, 1.00336280e+08, ...,\n",
      "       5.39458816e+08, 5.39990720e+08, 5.39453696e+08], dtype=float32), 'ivar': array([1.4998279e-12, 1.4660620e-12, 1.5993705e-12, ..., 3.5160151e-13,\n",
      "       3.5134550e-13, 3.5111104e-13], dtype=float32), 'sky': array([0.       , 0.       , 0.       , ..., 1.3106012, 1.3076415,\n",
      "       0.       ], dtype=float32), 'obj_id': 1, 'ra': 150.0, 'dec': 2.0, 'mag': array([20.92757225,         nan,         nan,         nan,         nan]), 'filter': array(['g', 'r', 'i', 'z', 'y'], dtype='<U1'), 'teffphot': array([0., 0., 0., 0., 0., 0., 0., 0.]), 'teffphoterr': array([0., 0., 0., 0., 0., 0., 0., 0.]), 'loggphot': array([0., 0., 0., 0., 0., 0., 0., 0.]), 'loggphoterr': array([0., 0., 0., 0., 0., 0., 0., 0.]), 'vturbphot': array([0., 0., 0., 0., 0., 0., 0., 0.]), 'mhphot': array([0., 0., 0., 0., 0., 0., 0., 0.]), 'initcont': array([0., 0., 0., ..., 0., 0., 0.]), 'refinedcont': array([0., 0., 0., ..., 0., 0., 0.]), 'teff': nan, 'logg': nan, 'vturb': nan, 'mh': nan, 'alphafe': nan, 'feh': nan, 'cfe': nan, 'mgfe': nan, 'cafe': nan, 'sife': nan, 'tife': nan, 'mnfe': nan, 'cofe': nan, 'nife': nan, 'bafe': nan, 'tefferr': nan, 'loggerr': nan, 'vturberr': nan, 'mherr': nan, 'alphafeerr': nan, 'feherr': nan, 'cfeerr': nan, 'mgfeerr': nan, 'cafeerr': nan, 'sifeerr': nan, 'tifeerr': nan, 'mnfeerr': nan, 'cofeerr': nan, 'nifeerr': nan, 'bafeerr': nan, 'gaia_id': '2345', '2mass_id': '6789'}\n"
     ]
    }
   ],
   "source": [
    "print(pfs)"
   ]
  },
  {
   "cell_type": "code",
   "execution_count": 6,
   "metadata": {
    "collapsed": true
   },
   "outputs": [],
   "source": [
    "## Run the abundance pipeline -- use the keywords synth_path_red and synth_path_blue to point to synthethic spectral\n",
    "## grids\n",
    "\n",
    "## Note that you MUST have access to the synthetic spectral grids of Escala et al. 2019 and Kirby et al. 2008 to\n",
    "## run this code\n",
    "\n",
    "abund.MeasurePFSAbund(pfs, mode=mode)"
   ]
  },
  {
   "cell_type": "code",
   "execution_count": 10,
   "metadata": {
    "collapsed": true
   },
   "outputs": [],
   "source": [
    "#Save the dictionary as a FITS file in the specified directory\n",
    "pfs.write_to(out_dir)"
   ]
  },
  {
   "cell_type": "code",
   "execution_count": null,
   "metadata": {
    "collapsed": true
   },
   "outputs": [],
   "source": []
  }
 ],
 "metadata": {
  "kernelspec": {
   "display_name": "Python 3",
   "language": "python",
   "name": "python3"
  },
  "language_info": {
   "codemirror_mode": {
    "name": "ipython",
    "version": 3
   },
   "file_extension": ".py",
   "mimetype": "text/x-python",
   "name": "python",
   "nbconvert_exporter": "python",
   "pygments_lexer": "ipython3",
   "version": "3.6.9"
  }
 },
 "nbformat": 4,
 "nbformat_minor": 2
}
